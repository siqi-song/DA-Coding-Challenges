{
 "cells": [
  {
   "cell_type": "markdown",
   "metadata": {},
   "source": [
    "### Set Up"
   ]
  },
  {
   "cell_type": "code",
   "execution_count": 2,
   "metadata": {},
   "outputs": [
    {
     "name": "stdout",
     "output_type": "stream",
     "text": [
      "Companies table:\n",
      "  id    name                                            address\n",
      "0  1  Google  1600 Amphitheatre Parkway Mountain View, CA 94043\n",
      "1  2   Apple                1 Infinite Loop Cupertino, CA 95014\n",
      "\n",
      "Employees table:\n",
      "  id   name age company_id\n",
      "0  1   John  36          1\n",
      "1  2  Alice  45          3\n",
      "\n"
     ]
    }
   ],
   "source": [
    "import pandas as pd\n",
    "import numpy as np\n",
    "\n",
    "companies = pd.DataFrame(np.array([\n",
    "    [1, 'Google', '1600 Amphitheatre Parkway Mountain View, CA 94043'],\n",
    "    [2, 'Apple', '1 Infinite Loop Cupertino, CA 95014'],\n",
    "    ]), columns=['id', 'name', 'address'])\n",
    "employees = pd.DataFrame(np.array([\n",
    "    [1, 'John', 36, 1],\n",
    "    [2, 'Alice', 45, 3],\n",
    "    ]), columns=['id', 'name', 'age', 'company_id'])\n",
    "print(f\"Companies table:\\n{companies}\\n\")\n",
    "print(f\"Employees table:\\n{employees}\\n\")"
   ]
  },
  {
   "cell_type": "markdown",
   "metadata": {},
   "source": [
    "### Solution Implementation"
   ]
  },
  {
   "cell_type": "code",
   "execution_count": 21,
   "metadata": {},
   "outputs": [],
   "source": [
    "def merge_tables(companies: pd.DataFrame, employees: pd.DataFrame) -> pd.DataFrame:\n",
    "    res = pd.merge(employees, companies, how=\"left\", left_on='company_id', right_on='id')[['name_x', 'age', 'name_y', 'address']]\n",
    "    res.rename(columns={'name_x': 'name', 'name_y': 'company_name', 'address': 'company_address'}, inplace=True)\n",
    "    return res"
   ]
  },
  {
   "cell_type": "markdown",
   "metadata": {},
   "source": [
    "### Output Result"
   ]
  },
  {
   "cell_type": "code",
   "execution_count": 22,
   "metadata": {},
   "outputs": [
    {
     "name": "stdout",
     "output_type": "stream",
     "text": [
      "Output:\n",
      "    name age company_name                                    company_address\n",
      "0   John  36       Google  1600 Amphitheatre Parkway Mountain View, CA 94043\n",
      "1  Alice  45          NaN                                                NaN\n"
     ]
    }
   ],
   "source": [
    "output = merge_tables(companies, employees)\n",
    "print(f\"Output:\\n{output}\")"
   ]
  }
 ],
 "metadata": {
  "kernelspec": {
   "display_name": "Python 3",
   "language": "python",
   "name": "python3"
  },
  "language_info": {
   "codemirror_mode": {
    "name": "ipython",
    "version": 3
   },
   "file_extension": ".py",
   "mimetype": "text/x-python",
   "name": "python",
   "nbconvert_exporter": "python",
   "pygments_lexer": "ipython3",
   "version": "3.12.0"
  }
 },
 "nbformat": 4,
 "nbformat_minor": 2
}
